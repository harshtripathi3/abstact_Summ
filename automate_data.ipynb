{
  "cells": [
    {
      "cell_type": "code",
      "execution_count": null,
      "metadata": {
        "id": "yXyC4Chv8YEb"
      },
      "outputs": [],
      "source": [
        "# !pip3 install snscrape\n",
        "import pandas as pd\n",
        "from tqdm.notebook import tqdm\n",
        "# import snscrape.modules.twitter as sntwitter"
      ]
    },
    {
      "cell_type": "code",
      "execution_count": null,
      "metadata": {
        "id": "E05e0M3EBnwC"
      },
      "outputs": [],
      "source": []
    },
    {
      "cell_type": "code",
      "execution_count": null,
      "metadata": {
        "id": "-U0NZsb9Bnqv"
      },
      "outputs": [],
      "source": [
        "#cleaning the data/preprocess"
      ]
    },
    {
      "cell_type": "code",
      "execution_count": null,
      "metadata": {
        "colab": {
          "base_uri": "https://localhost:8080/"
        },
        "id": "gah0la6Z8fT7",
        "outputId": "bf85c9cf-2812-46dc-bb29-b1b45797dd1c"
      },
      "outputs": [
        {
          "name": "stderr",
          "output_type": "stream",
          "text": [
            "[nltk_data] Downloading package wordnet to /root/nltk_data...\n",
            "[nltk_data]   Package wordnet is already up-to-date!\n",
            "[nltk_data] Downloading package omw-1.4 to /root/nltk_data...\n",
            "[nltk_data]   Package omw-1.4 is already up-to-date!\n",
            "[nltk_data] Downloading package stopwords to /root/nltk_data...\n",
            "[nltk_data]   Package stopwords is already up-to-date!\n"
          ]
        }
      ],
      "source": [
        "import pandas as pd\n",
        "import numpy as np\n",
        "\n",
        "import nltk\n",
        "import re\n",
        "\n",
        "from wordcloud import WordCloud\n",
        "\n",
        "from nltk.stem import WordNetLemmatizer\n",
        "from nltk.corpus import stopwords\n",
        "\n",
        "# Downloading all the requirements\n",
        "# !pip install scikit-multilearn\n",
        "nltk.download('wordnet')\n",
        "nltk.download('omw-1.4')\n",
        "nltk.download('stopwords')\n",
        "\n",
        "# !pip install contractions\n",
        "import contractions\n",
        "\n",
        "from sklearn.feature_extraction.text import TfidfVectorizer\n",
        "from sklearn.pipeline import Pipeline, make_union\n",
        "\n",
        "from tqdm import tqdm\n",
        "\n",
        "# !pip install -U imbalanced-learn\n",
        "\n",
        "import matplotlib.pyplot as plt\n",
        "from matplotlib import rcParams\n",
        "import seaborn as sns\n",
        "\n",
        "# Setting global parameters for the Plots\n",
        "rcParams['figure.figsize'] = 18, 9 \n",
        "rcParams['axes.spines.top'] = False\n",
        "rcParams['axes.spines.right'] = False\n",
        "rcParams['lines.linewidth'] = 2.5\n",
        "rcParams['xtick.labelsize'] = 'smaller'\n",
        "rcParams['ytick.labelsize'] = 'smaller'\n",
        "rcParams['axes.labelpad'] = 15\n",
        "\n",
        "# !pip install langdetect"
      ]
    },
    {
      "cell_type": "code",
      "execution_count": null,
      "metadata": {
        "id": "FDHwHgOJG3lG"
      },
      "outputs": [],
      "source": [
        "class preprocess:\n",
        "\n",
        "    def __init__(self):\n",
        "        pass\n",
        "\n",
        "    def clean(self, df, column):\n",
        "      \n",
        "        # applying all the methods in sequence\n",
        "        df[column] = df[column].apply(self.rm_hash)\n",
        "        df[column] = df[column].str.lower()\n",
        "        df[column] = self.fix_contractions(df, column)\n",
        "\n",
        "        # df[column] = df[column].apply(self.rm_decontracted)\n",
        "        df[column] = df[column].apply(self.rm_urls)\n",
        "        df[column] = df[column].apply(self.rm_html_tags)\n",
        "        df[column] = df[column].apply(self.rm_non_alpha)\n",
        "        # df[column] = self.rm_stopwords(df, column)\n",
        "\n",
        "        # df[column] = df[column].apply(self.rm_patterns_removal) #ZZZZZZ REMOVER\n",
        "        df[column] = df[column].apply(self.rm_repeated_text) ### ZZZZ TO Z\n",
        "        df[column] = df[column].apply(self.rm_numword_removal)\n",
        "        df[column] = self.rm_whitespace(df, column)\n",
        "\n",
        "        # lowercasing the text\n",
        "\n",
        "\n",
        "        df = self.lemmatization(df, column)\n",
        "        # df[column] = self.rm_stopwords(df, column)\n",
        "        # df = self.remove_less_2(df, column)\n",
        "    \n",
        "        return df\n",
        "\n",
        "\n",
        "    def rm_hash(self,text):\n",
        "        url_pattern = re.compile(r'(\\s)#\\w+')\n",
        "        return url_pattern.sub(r'', text)\n",
        "\n",
        "    def rm_urls(self, text):\n",
        "        return re.sub(r'http\\S+', ' ', text)\n",
        "    \n",
        "    def rm_html_tags(self, text):\n",
        "        clean = re.compile('<.*?>')\n",
        "        return re.sub(clean, ' ', text)\n",
        "\n",
        "    def rm_non_alpha(self, text):\n",
        "        return re.sub('[^a-zA-Z]', ' ', text)\n",
        "\n",
        "    def rm_whitespace(self, df, column):\n",
        "        return df[column].apply(lambda x : \" \".join(x.split()))\n",
        "\n",
        "    def lemmatization(self, df, column):\n",
        "        lemma = WordNetLemmatizer()\n",
        "\n",
        "        # Lemmatizing with respect to the verb form and noun form\n",
        "        df[column] = df[column].apply(lambda x : \" \".join([lemma.lemmatize(word = w, pos='v') for w in x.split(\" \")]))\n",
        "        df[column] = df[column].apply(lambda x : \" \".join([lemma.lemmatize(word = w, pos='n') for w in x.split(\" \")]))\n",
        "\n",
        "        # df[column] = df[column].apply(lambda x : \" \".join([lemma.lemmatize(word = w, pos='a') for w in x.split(\" \")]))\t\n",
        "        # df[column] = df[column].apply(lambda x : \" \".join([lemma.lemmatize(word = w, pos='r') for w in x.split(\" \")]))\t\n",
        "        # df[column] = df[column].apply(lambda x : \" \".join([lemma.lemmatize(word = w, pos='s') for w in x.split(\" \")]))\t\t\n",
        "\n",
        "        return df\n",
        "\n",
        "    def rm_stopwords(self, df, column):\n",
        "\n",
        "        # Generating all the stop words of english and removing no,not nor as they are significantly important\n",
        "        stop = stopwords.words('english')\n",
        "        not_stop_words = {'no', 'not', 'nor','very','but'}\n",
        "        modified_stop = [ele for ele in stop if ele not in not_stop_words]\n",
        "\n",
        "        return df[column].apply(lambda x : ' '.join([word for word in x.split(' ') if word not in modified_stop]))\n",
        "\n",
        "    # As the words with less than length 2 will not contribute to toxicity in a general manner\n",
        "    def _clean_small(self, text):\n",
        "        return re.sub(r'\\b\\w{1,2}\\b', '', text)\n",
        "\n",
        "    # After every re.sub we get varied amount of whitespaces so it is essential to remove white spaces\n",
        "    def remove_less_2(self, df, column):\n",
        "        df[column] = df[column].apply(self._clean_small)\n",
        "        df[column] = self.rm_whitespace(df, column)\n",
        "        return df\n",
        "\n",
        "    # zzzzzzzzzz remover\n",
        "    def rm_patterns_removal(self,text): \n",
        "        return re.sub(\"\\\\s*\\\\b(?=\\\\w*(\\\\w)\\\\1{2,})\\\\w*\\\\b\",' ',text)\n",
        "\n",
        "    #function to remove words with numbers\n",
        "    def rm_numword_removal(self,text):\n",
        "        return re.sub(\"\\S*\\d\\S*\", \" \", text).strip()\n",
        "\n",
        "    def rm_decontracted(self,text):\n",
        "      phrase = re.sub(r\"\\'t\", \" not\", text)\n",
        "      phrase = re.sub(r\"\\'re\", \" are\", phrase)\n",
        "      phrase = re.sub(r\"\\'s\", \" is\", phrase)\n",
        "      phrase = re.sub(r\"\\'d\", \" would\", phrase)\n",
        "      phrase = re.sub(r\"\\'ll\", \" will\", phrase)\n",
        "      phrase = re.sub(r\"\\'ve\", \" have\", phrase)\n",
        "      phrase = re.sub(r\"\\'m\", \" am\", phrase)\n",
        "      return phrase\n",
        "\n",
        "    # zzzzzzzzzz updater to z remover\n",
        "    def rm_repeated_text(self,text):\n",
        "      return re.sub(r'(.)\\1{2,}', r'\\1', text) \n",
        "\n",
        "    def fix_contractions(self, df, column):\n",
        "        return df[column].apply(contractions.fix)"
      ]
    },
    {
      "cell_type": "code",
      "execution_count": null,
      "metadata": {
        "colab": {
          "base_uri": "https://localhost:8080/",
          "height": 363
        },
        "id": "584Jj7zlG6Me",
        "outputId": "fea40211-c5b7-401c-d3b8-83832fc3c56a"
      },
      "outputs": [
        {
          "data": {
            "text/html": [
              "\n",
              "  <div id=\"df-cadedf52-73ff-4acd-9087-946ea3d1e2b6\">\n",
              "    <div class=\"colab-df-container\">\n",
              "      <div>\n",
              "<style scoped>\n",
              "    .dataframe tbody tr th:only-of-type {\n",
              "        vertical-align: middle;\n",
              "    }\n",
              "\n",
              "    .dataframe tbody tr th {\n",
              "        vertical-align: top;\n",
              "    }\n",
              "\n",
              "    .dataframe thead th {\n",
              "        text-align: right;\n",
              "    }\n",
              "</style>\n",
              "<table border=\"1\" class=\"dataframe\">\n",
              "  <thead>\n",
              "    <tr style=\"text-align: right;\">\n",
              "      <th></th>\n",
              "      <th>content</th>\n",
              "    </tr>\n",
              "  </thead>\n",
              "  <tbody>\n",
              "    <tr>\n",
              "      <th>0</th>\n",
              "      <td></td>\n",
              "    </tr>\n",
              "    <tr>\n",
              "      <th>1</th>\n",
              "      <td>meet a muslim guy from up want to become ia of...</td>\n",
              "    </tr>\n",
              "    <tr>\n",
              "      <th>2</th>\n",
              "      <td>ruko zara sabar karo dhakka mukki nahi karne k...</td>\n",
              "    </tr>\n",
              "    <tr>\n",
              "      <th>3</th>\n",
              "      <td>break news up stf hmoindia myogiadityanath upp...</td>\n",
              "    </tr>\n",
              "    <tr>\n",
              "      <th>4</th>\n",
              "      <td>pat se headshot cm myogioffice once say mitti ...</td>\n",
              "    </tr>\n",
              "    <tr>\n",
              "      <th>5</th>\n",
              "      <td>please for the love of god stay onside and lea...</td>\n",
              "    </tr>\n",
              "    <tr>\n",
              "      <th>6</th>\n",
              "      <td>le tr s joli geste de leroy san envers sadio m...</td>\n",
              "    </tr>\n",
              "    <tr>\n",
              "      <th>7</th>\n",
              "      <td>thomas amp sadio in today s train bild camo og...</td>\n",
              "    </tr>\n",
              "    <tr>\n",
              "      <th>8</th>\n",
              "      <td>leroy sane hide lower lip from the camera obsc...</td>\n",
              "    </tr>\n",
              "    <tr>\n",
              "      <th>9</th>\n",
              "      <td>good morning navy blue m xxl kindly dm nationw...</td>\n",
              "    </tr>\n",
              "  </tbody>\n",
              "</table>\n",
              "</div>\n",
              "      <button class=\"colab-df-convert\" onclick=\"convertToInteractive('df-cadedf52-73ff-4acd-9087-946ea3d1e2b6')\"\n",
              "              title=\"Convert this dataframe to an interactive table.\"\n",
              "              style=\"display:none;\">\n",
              "        \n",
              "  <svg xmlns=\"http://www.w3.org/2000/svg\" height=\"24px\"viewBox=\"0 0 24 24\"\n",
              "       width=\"24px\">\n",
              "    <path d=\"M0 0h24v24H0V0z\" fill=\"none\"/>\n",
              "    <path d=\"M18.56 5.44l.94 2.06.94-2.06 2.06-.94-2.06-.94-.94-2.06-.94 2.06-2.06.94zm-11 1L8.5 8.5l.94-2.06 2.06-.94-2.06-.94L8.5 2.5l-.94 2.06-2.06.94zm10 10l.94 2.06.94-2.06 2.06-.94-2.06-.94-.94-2.06-.94 2.06-2.06.94z\"/><path d=\"M17.41 7.96l-1.37-1.37c-.4-.4-.92-.59-1.43-.59-.52 0-1.04.2-1.43.59L10.3 9.45l-7.72 7.72c-.78.78-.78 2.05 0 2.83L4 21.41c.39.39.9.59 1.41.59.51 0 1.02-.2 1.41-.59l7.78-7.78 2.81-2.81c.8-.78.8-2.07 0-2.86zM5.41 20L4 18.59l7.72-7.72 1.47 1.35L5.41 20z\"/>\n",
              "  </svg>\n",
              "      </button>\n",
              "      \n",
              "  <style>\n",
              "    .colab-df-container {\n",
              "      display:flex;\n",
              "      flex-wrap:wrap;\n",
              "      gap: 12px;\n",
              "    }\n",
              "\n",
              "    .colab-df-convert {\n",
              "      background-color: #E8F0FE;\n",
              "      border: none;\n",
              "      border-radius: 50%;\n",
              "      cursor: pointer;\n",
              "      display: none;\n",
              "      fill: #1967D2;\n",
              "      height: 32px;\n",
              "      padding: 0 0 0 0;\n",
              "      width: 32px;\n",
              "    }\n",
              "\n",
              "    .colab-df-convert:hover {\n",
              "      background-color: #E2EBFA;\n",
              "      box-shadow: 0px 1px 2px rgba(60, 64, 67, 0.3), 0px 1px 3px 1px rgba(60, 64, 67, 0.15);\n",
              "      fill: #174EA6;\n",
              "    }\n",
              "\n",
              "    [theme=dark] .colab-df-convert {\n",
              "      background-color: #3B4455;\n",
              "      fill: #D2E3FC;\n",
              "    }\n",
              "\n",
              "    [theme=dark] .colab-df-convert:hover {\n",
              "      background-color: #434B5C;\n",
              "      box-shadow: 0px 1px 3px 1px rgba(0, 0, 0, 0.15);\n",
              "      filter: drop-shadow(0px 1px 2px rgba(0, 0, 0, 0.3));\n",
              "      fill: #FFFFFF;\n",
              "    }\n",
              "  </style>\n",
              "\n",
              "      <script>\n",
              "        const buttonEl =\n",
              "          document.querySelector('#df-cadedf52-73ff-4acd-9087-946ea3d1e2b6 button.colab-df-convert');\n",
              "        buttonEl.style.display =\n",
              "          google.colab.kernel.accessAllowed ? 'block' : 'none';\n",
              "\n",
              "        async function convertToInteractive(key) {\n",
              "          const element = document.querySelector('#df-cadedf52-73ff-4acd-9087-946ea3d1e2b6');\n",
              "          const dataTable =\n",
              "            await google.colab.kernel.invokeFunction('convertToInteractive',\n",
              "                                                     [key], {});\n",
              "          if (!dataTable) return;\n",
              "\n",
              "          const docLinkHtml = 'Like what you see? Visit the ' +\n",
              "            '<a target=\"_blank\" href=https://colab.research.google.com/notebooks/data_table.ipynb>data table notebook</a>'\n",
              "            + ' to learn more about interactive tables.';\n",
              "          element.innerHTML = '';\n",
              "          dataTable['output_type'] = 'display_data';\n",
              "          await google.colab.output.renderOutput(dataTable, element);\n",
              "          const docLink = document.createElement('div');\n",
              "          docLink.innerHTML = docLinkHtml;\n",
              "          element.appendChild(docLink);\n",
              "        }\n",
              "      </script>\n",
              "    </div>\n",
              "  </div>\n",
              "  "
            ],
            "text/plain": [
              "                                             content\n",
              "0                                                   \n",
              "1  meet a muslim guy from up want to become ia of...\n",
              "2  ruko zara sabar karo dhakka mukki nahi karne k...\n",
              "3  break news up stf hmoindia myogiadityanath upp...\n",
              "4  pat se headshot cm myogioffice once say mitti ...\n",
              "5  please for the love of god stay onside and lea...\n",
              "6  le tr s joli geste de leroy san envers sadio m...\n",
              "7  thomas amp sadio in today s train bild camo og...\n",
              "8  leroy sane hide lower lip from the camera obsc...\n",
              "9  good morning navy blue m xxl kindly dm nationw..."
            ]
          },
          "execution_count": 57,
          "metadata": {},
          "output_type": "execute_result"
        }
      ],
      "source": [
        "# df_test = preprocess().clean(input, 'content')\n",
        "# df_test"
      ]
    },
    {
      "cell_type": "code",
      "execution_count": null,
      "metadata": {
        "colab": {
          "base_uri": "https://localhost:8080/",
          "height": 331
        },
        "id": "PNEqxb5r800x",
        "outputId": "e14b9cd1-25f2-412f-e323-1420fd49847f"
      },
      "outputs": [
        {
          "data": {
            "text/html": [
              "\n",
              "  <div id=\"df-818181cc-0b79-4e8b-a6cf-21cf2c18662c\">\n",
              "    <div class=\"colab-df-container\">\n",
              "      <div>\n",
              "<style scoped>\n",
              "    .dataframe tbody tr th:only-of-type {\n",
              "        vertical-align: middle;\n",
              "    }\n",
              "\n",
              "    .dataframe tbody tr th {\n",
              "        vertical-align: top;\n",
              "    }\n",
              "\n",
              "    .dataframe thead th {\n",
              "        text-align: right;\n",
              "    }\n",
              "</style>\n",
              "<table border=\"1\" class=\"dataframe\">\n",
              "  <thead>\n",
              "    <tr style=\"text-align: right;\">\n",
              "      <th></th>\n",
              "      <th>content</th>\n",
              "    </tr>\n",
              "  </thead>\n",
              "  <tbody>\n",
              "    <tr>\n",
              "      <th>0</th>\n",
              "      <td>meet a muslim guy from up want to become ia of...</td>\n",
              "    </tr>\n",
              "    <tr>\n",
              "      <th>1</th>\n",
              "      <td>ruko zara sabar karo dhakka mukki nahi karne k...</td>\n",
              "    </tr>\n",
              "    <tr>\n",
              "      <th>2</th>\n",
              "      <td>break news up stf hmoindia myogiadityanath upp...</td>\n",
              "    </tr>\n",
              "    <tr>\n",
              "      <th>3</th>\n",
              "      <td>pat se headshot cm myogioffice once say mitti ...</td>\n",
              "    </tr>\n",
              "    <tr>\n",
              "      <th>4</th>\n",
              "      <td>please for the love of god stay onside and lea...</td>\n",
              "    </tr>\n",
              "    <tr>\n",
              "      <th>5</th>\n",
              "      <td>le tr s joli geste de leroy san envers sadio m...</td>\n",
              "    </tr>\n",
              "    <tr>\n",
              "      <th>6</th>\n",
              "      <td>thomas amp sadio in today s train bild camo og...</td>\n",
              "    </tr>\n",
              "    <tr>\n",
              "      <th>7</th>\n",
              "      <td>leroy sane hide lower lip from the camera obsc...</td>\n",
              "    </tr>\n",
              "    <tr>\n",
              "      <th>8</th>\n",
              "      <td>good morning navy blue m xxl kindly dm nationw...</td>\n",
              "    </tr>\n",
              "  </tbody>\n",
              "</table>\n",
              "</div>\n",
              "      <button class=\"colab-df-convert\" onclick=\"convertToInteractive('df-818181cc-0b79-4e8b-a6cf-21cf2c18662c')\"\n",
              "              title=\"Convert this dataframe to an interactive table.\"\n",
              "              style=\"display:none;\">\n",
              "        \n",
              "  <svg xmlns=\"http://www.w3.org/2000/svg\" height=\"24px\"viewBox=\"0 0 24 24\"\n",
              "       width=\"24px\">\n",
              "    <path d=\"M0 0h24v24H0V0z\" fill=\"none\"/>\n",
              "    <path d=\"M18.56 5.44l.94 2.06.94-2.06 2.06-.94-2.06-.94-.94-2.06-.94 2.06-2.06.94zm-11 1L8.5 8.5l.94-2.06 2.06-.94-2.06-.94L8.5 2.5l-.94 2.06-2.06.94zm10 10l.94 2.06.94-2.06 2.06-.94-2.06-.94-.94-2.06-.94 2.06-2.06.94z\"/><path d=\"M17.41 7.96l-1.37-1.37c-.4-.4-.92-.59-1.43-.59-.52 0-1.04.2-1.43.59L10.3 9.45l-7.72 7.72c-.78.78-.78 2.05 0 2.83L4 21.41c.39.39.9.59 1.41.59.51 0 1.02-.2 1.41-.59l7.78-7.78 2.81-2.81c.8-.78.8-2.07 0-2.86zM5.41 20L4 18.59l7.72-7.72 1.47 1.35L5.41 20z\"/>\n",
              "  </svg>\n",
              "      </button>\n",
              "      \n",
              "  <style>\n",
              "    .colab-df-container {\n",
              "      display:flex;\n",
              "      flex-wrap:wrap;\n",
              "      gap: 12px;\n",
              "    }\n",
              "\n",
              "    .colab-df-convert {\n",
              "      background-color: #E8F0FE;\n",
              "      border: none;\n",
              "      border-radius: 50%;\n",
              "      cursor: pointer;\n",
              "      display: none;\n",
              "      fill: #1967D2;\n",
              "      height: 32px;\n",
              "      padding: 0 0 0 0;\n",
              "      width: 32px;\n",
              "    }\n",
              "\n",
              "    .colab-df-convert:hover {\n",
              "      background-color: #E2EBFA;\n",
              "      box-shadow: 0px 1px 2px rgba(60, 64, 67, 0.3), 0px 1px 3px 1px rgba(60, 64, 67, 0.15);\n",
              "      fill: #174EA6;\n",
              "    }\n",
              "\n",
              "    [theme=dark] .colab-df-convert {\n",
              "      background-color: #3B4455;\n",
              "      fill: #D2E3FC;\n",
              "    }\n",
              "\n",
              "    [theme=dark] .colab-df-convert:hover {\n",
              "      background-color: #434B5C;\n",
              "      box-shadow: 0px 1px 3px 1px rgba(0, 0, 0, 0.15);\n",
              "      filter: drop-shadow(0px 1px 2px rgba(0, 0, 0, 0.3));\n",
              "      fill: #FFFFFF;\n",
              "    }\n",
              "  </style>\n",
              "\n",
              "      <script>\n",
              "        const buttonEl =\n",
              "          document.querySelector('#df-818181cc-0b79-4e8b-a6cf-21cf2c18662c button.colab-df-convert');\n",
              "        buttonEl.style.display =\n",
              "          google.colab.kernel.accessAllowed ? 'block' : 'none';\n",
              "\n",
              "        async function convertToInteractive(key) {\n",
              "          const element = document.querySelector('#df-818181cc-0b79-4e8b-a6cf-21cf2c18662c');\n",
              "          const dataTable =\n",
              "            await google.colab.kernel.invokeFunction('convertToInteractive',\n",
              "                                                     [key], {});\n",
              "          if (!dataTable) return;\n",
              "\n",
              "          const docLinkHtml = 'Like what you see? Visit the ' +\n",
              "            '<a target=\"_blank\" href=https://colab.research.google.com/notebooks/data_table.ipynb>data table notebook</a>'\n",
              "            + ' to learn more about interactive tables.';\n",
              "          element.innerHTML = '';\n",
              "          dataTable['output_type'] = 'display_data';\n",
              "          await google.colab.output.renderOutput(dataTable, element);\n",
              "          const docLink = document.createElement('div');\n",
              "          docLink.innerHTML = docLinkHtml;\n",
              "          element.appendChild(docLink);\n",
              "        }\n",
              "      </script>\n",
              "    </div>\n",
              "  </div>\n",
              "  "
            ],
            "text/plain": [
              "                                             content\n",
              "0  meet a muslim guy from up want to become ia of...\n",
              "1  ruko zara sabar karo dhakka mukki nahi karne k...\n",
              "2  break news up stf hmoindia myogiadityanath upp...\n",
              "3  pat se headshot cm myogioffice once say mitti ...\n",
              "4  please for the love of god stay onside and lea...\n",
              "5  le tr s joli geste de leroy san envers sadio m...\n",
              "6  thomas amp sadio in today s train bild camo og...\n",
              "7  leroy sane hide lower lip from the camera obsc...\n",
              "8  good morning navy blue m xxl kindly dm nationw..."
            ]
          },
          "execution_count": 58,
          "metadata": {},
          "output_type": "execute_result"
        }
      ],
      "source": [
        "# from langdetect import detect\n",
        "# lst=\"\"\n",
        "# file=[]\n",
        "# j=0\n",
        "# for i,x in enumerate(df_test['content']):\n",
        "#   if(len(x)!=0 and detect(x)=='en'):\n",
        "#       file.append(x)\n",
        "# file_df=pd.DataFrame(file,columns=[\"content\"])\n",
        "# file_df"
      ]
    },
    {
      "cell_type": "code",
      "execution_count": null,
      "metadata": {
        "id": "lzfeTgquR1iH"
      },
      "outputs": [],
      "source": []
    },
    {
      "cell_type": "code",
      "execution_count": null,
      "metadata": {
        "id": "GcaMFvePR1fA"
      },
      "outputs": [],
      "source": []
    },
    {
      "cell_type": "code",
      "execution_count": null,
      "metadata": {
        "colab": {
          "base_uri": "https://localhost:8080/"
        },
        "id": "QdaDUe5SR1cH",
        "outputId": "2c4d501b-2c41-43b4-c37a-cb9dd45c31bb"
      },
      "outputs": [
        {
          "name": "stderr",
          "output_type": "stream",
          "text": [
            "[nltk_data] Downloading package punkt to /root/nltk_data...\n",
            "[nltk_data]   Unzipping tokenizers/punkt.zip.\n"
          ]
        },
        {
          "data": {
            "text/plain": [
              "True"
            ]
          },
          "execution_count": 93,
          "metadata": {},
          "output_type": "execute_result"
        }
      ],
      "source": [
        "nltk.download('punkt') # one time execution"
      ]
    },
    {
      "cell_type": "code",
      "execution_count": null,
      "metadata": {
        "colab": {
          "base_uri": "https://localhost:8080/"
        },
        "id": "15vOEuzZR5sH",
        "outputId": "8314693c-5eb6-4bd9-d0ed-2dedc8f38502"
      },
      "outputs": [
        {
          "name": "stdout",
          "output_type": "stream",
          "text": [
            "--2023-04-13 11:02:16--  http://nlp.stanford.edu/data/glove.6B.zip\n",
            "Resolving nlp.stanford.edu (nlp.stanford.edu)... 171.64.67.140\n",
            "Connecting to nlp.stanford.edu (nlp.stanford.edu)|171.64.67.140|:80... connected.\n",
            "HTTP request sent, awaiting response... 302 Found\n",
            "Location: https://nlp.stanford.edu/data/glove.6B.zip [following]\n",
            "--2023-04-13 11:02:16--  https://nlp.stanford.edu/data/glove.6B.zip\n",
            "Connecting to nlp.stanford.edu (nlp.stanford.edu)|171.64.67.140|:443... connected.\n",
            "HTTP request sent, awaiting response... 301 Moved Permanently\n",
            "Location: https://downloads.cs.stanford.edu/nlp/data/glove.6B.zip [following]\n",
            "--2023-04-13 11:02:16--  https://downloads.cs.stanford.edu/nlp/data/glove.6B.zip\n",
            "Resolving downloads.cs.stanford.edu (downloads.cs.stanford.edu)... 171.64.64.22\n",
            "Connecting to downloads.cs.stanford.edu (downloads.cs.stanford.edu)|171.64.64.22|:443... connected.\n",
            "HTTP request sent, awaiting response... 200 OK\n",
            "Length: 862182613 (822M) [application/zip]\n",
            "Saving to: ‘glove.6B.zip’\n",
            "\n",
            "glove.6B.zip        100%[===================>] 822.24M  5.01MB/s    in 2m 39s  \n",
            "\n",
            "2023-04-13 11:04:55 (5.18 MB/s) - ‘glove.6B.zip’ saved [862182613/862182613]\n",
            "\n",
            "Archive:  glove.6B.zip\n",
            "  inflating: glove.6B.50d.txt        \n",
            "  inflating: glove.6B.100d.txt       \n",
            "  inflating: glove.6B.200d.txt       \n",
            "  inflating: glove.6B.300d.txt       \n"
          ]
        }
      ],
      "source": [
        "!wget http://nlp.stanford.edu/data/glove.6B.zip\n",
        "!unzip glove*.zip"
      ]
    },
    {
      "cell_type": "code",
      "execution_count": null,
      "metadata": {
        "id": "xRgkR-81R7xH"
      },
      "outputs": [],
      "source": [
        "import numpy as np\n",
        "import pandas as pd\n",
        "import nltk\n",
        "from nltk.tokenize import sent_tokenize\n",
        "# nltk.download('punkt') # one time execution\n",
        "import re"
      ]
    },
    {
      "cell_type": "code",
      "execution_count": null,
      "metadata": {
        "id": "FzTiaSkZR_Yk"
      },
      "outputs": [],
      "source": [
        "import numpy as np\n",
        "import pandas as pd\n",
        "import nltk\n",
        "import re\n",
        "from nltk.tokenize import sent_tokenize\n",
        "from nltk.corpus import stopwords\n",
        "from gensim.models import Word2Vec\n",
        "from scipy import spatial\n",
        "import networkx as nx"
      ]
    },
    {
      "cell_type": "code",
      "execution_count": null,
      "metadata": {
        "id": "iky34oioSCqJ"
      },
      "outputs": [],
      "source": []
    },
    {
      "cell_type": "code",
      "execution_count": null,
      "metadata": {
        "id": "7y6A3uYmR1ZS"
      },
      "outputs": [],
      "source": [
        "#defining hashtags for getting tweets"
      ]
    },
    {
      "cell_type": "code",
      "execution_count": null,
      "metadata": {
        "id": "s_wyf2HOR1Wc"
      },
      "outputs": [],
      "source": [
        "hash_tag = [\"Odisha\",\"Truss\",]\n",
        "from sklearn.metrics.pairwise import cosine_similarity"
      ]
    },
    {
      "cell_type": "code",
      "execution_count": null,
      "metadata": {
        "colab": {
          "base_uri": "https://localhost:8080/"
        },
        "id": "22T5SVJrR1Qr",
        "outputId": "9ab9cd19-67a8-46ab-b4b0-5cb9942ddc80"
      },
      "outputs": [
        {
          "name": "stdout",
          "output_type": "stream",
          "text": [
            "Odisha\n",
            "Truss\n"
          ]
        }
      ],
      "source": [
        "for x in hash_tag:\n",
        "  print(x)"
      ]
    },
    {
      "cell_type": "code",
      "execution_count": null,
      "metadata": {},
      "outputs": [],
      "source": [
        "#function for getting top tweets and data"
      ]
    },
    {
      "cell_type": "code",
      "execution_count": null,
      "metadata": {
        "colab": {
          "base_uri": "https://localhost:8080/"
        },
        "id": "C_BL-8hUH_Vq",
        "outputId": "77e471b4-06c2-400b-9e8f-f4a2f313726e"
      },
      "outputs": [
        {
          "name": "stdout",
          "output_type": "stream",
          "text": [
            "Odisha\n",
            "Truss\n"
          ]
        }
      ],
      "source": [
        "data_tr=[]\n",
        "k=0\n",
        "for x in hash_tag:\n",
        "    print(x)\n",
        "    scraper=sntwitter.TwitterSearchScraper(x)\n",
        "    tweets=[]\n",
        "\n",
        "    for i,tweet in enumerate(scraper.get_items()):\n",
        "      data=[\n",
        "          tweet.date,\n",
        "          tweet.rawContent,\n",
        "          tweet.user.username,\n",
        "          tweet.likeCount,\n",
        "          tweet.retweetCount\n",
        "      ]\n",
        "      tweets.append(data)\n",
        "      if i > 400:\n",
        "        break\n",
        "\n",
        "    tweet_df=pd.DataFrame(tweets,columns=[\"date\",\"content\",\"username\",\"likecount\",\"retweet\"])\n",
        "\n",
        "    input=pd.DataFrame(tweet_df,columns=[\"content\"])\n",
        "\n",
        "    df_test = preprocess().clean(input, 'content')\n",
        "\n",
        "    lst=\"\"\n",
        "    file=[]\n",
        "    j=0\n",
        "    for i,x in enumerate(df_test['content']):\n",
        "      if(len(x)!=0 and detect(x)=='en'):\n",
        "          file.append(x)\n",
        "    file_df=pd.DataFrame(file,columns=[\"content\"])\n",
        "\t\t\n",
        "    lst=\"\"\n",
        "    spa=[]\n",
        "    j=0\n",
        "    for i,x in enumerate(file_df['content']):\n",
        "      lst=lst+str(x)+\". \"\n",
        "      #print(x)\n",
        "      if(i%30==0):\n",
        "        spa.append(lst)\n",
        "        lst=\"\"\n",
        "      \n",
        "      \n",
        "    file_df=pd.DataFrame(spa,columns=[\"content\"])\n",
        "    #print(file_df)\n",
        "\n",
        "    # sentences = []\n",
        "    for x in range(0,len(file_df)):\n",
        "      sentences = []\n",
        "      sentences=sent_tokenize(file_df.content[x])\n",
        "\n",
        "      if(len(sentences)<15):\n",
        "        continue\n",
        "\n",
        "      #print(len(sentences))\n",
        "      \n",
        "      sentences_clean=[re.sub(r'[^\\w\\s]','',sentence.lower()) for sentence in sentences]\n",
        "      stop_words = stopwords.words('english')\n",
        "      sentence_tokens=[[words for words in sentence.split(' ') if words not in stop_words] for sentence in sentences_clean]\n",
        "      \n",
        "      \n",
        "      word_embeddings = {}\n",
        "      f = open('glove.6B.100d.txt', encoding='utf-8')\n",
        "      for line in f:\n",
        "        values = line.split()\n",
        "        word = values[0]\n",
        "        coefs = np.asarray(values[1:], dtype='float32')\n",
        "        word_embeddings[word] = coefs\n",
        "      f.close()\n",
        "      \n",
        "      \n",
        "      sentence_vectors = []\n",
        "      for i in sentences_clean:\n",
        "        if len(i) != 0:\n",
        "          v = sum([word_embeddings.get(w, np.zeros((100,))) for w in i.split()])/(len(i.split())+0.001)\n",
        "        else:\n",
        "          v = np.zeros((100,))\n",
        "        sentence_vectors.append(v)\n",
        "        \n",
        "        \n",
        "        # similarity matrix\n",
        "      sim_mat = np.zeros([len(sentences), len(sentences)])\n",
        "      \n",
        "      for i in range(len(sentences)):\n",
        "        for j in range(len(sentences)):\n",
        "          if i != j:\n",
        "            sim_mat[i][j] = cosine_similarity(sentence_vectors[i].reshape(1,100), sentence_vectors[j].reshape(1,100))[0,0]\n",
        "          \n",
        "      \n",
        "      # from scipy.sparse import coo_array\n",
        "      nx_graph = nx.from_numpy_array(sim_mat)\n",
        "      scores = nx.pagerank(nx_graph,max_iter=300,tol=1.0e-4)\n",
        "      \n",
        "      \n",
        "      ranked_sentences = sorted(((scores[i],s) for i,s in enumerate(sentences)), reverse=True)\n",
        "      \n",
        "      \n",
        "      # Specify number of sentences to form the summary\n",
        "      sn = 10\n",
        "      temp=\"\"\n",
        "      #print(len(ranked_sentences))\n",
        "      # Generate summary\n",
        "      for i in range(sn):\n",
        "        # print(ranked_sentences[i][1])\n",
        "        temp+=ranked_sentences[i][1]\n",
        "        # print(\"----------------------------------------------------------------------\")\n",
        "      data_tr.append(temp)\n",
        "\n",
        "\n",
        "tr=pd.DataFrame(data_tr,columns=[\"content\"])"
      ]
    },
    {
      "cell_type": "code",
      "execution_count": null,
      "metadata": {
        "id": "zI0Hf8DLYaAz"
      },
      "outputs": [],
      "source": [
        "tr=pd.DataFrame(data_tr,columns=[\"content\"])"
      ]
    },
    {
      "cell_type": "code",
      "execution_count": null,
      "metadata": {
        "colab": {
          "base_uri": "https://localhost:8080/",
          "height": 613
        },
        "id": "vDDXU7dBsn37",
        "outputId": "4f53d4d6-6c65-4fff-b083-993bf944d3c0"
      },
      "outputs": [
        {
          "data": {
            "text/html": [
              "\n",
              "  <div id=\"df-a93a8250-dd52-46cd-9e77-ff2336c01829\">\n",
              "    <div class=\"colab-df-container\">\n",
              "      <div>\n",
              "<style scoped>\n",
              "    .dataframe tbody tr th:only-of-type {\n",
              "        vertical-align: middle;\n",
              "    }\n",
              "\n",
              "    .dataframe tbody tr th {\n",
              "        vertical-align: top;\n",
              "    }\n",
              "\n",
              "    .dataframe thead th {\n",
              "        text-align: right;\n",
              "    }\n",
              "</style>\n",
              "<table border=\"1\" class=\"dataframe\">\n",
              "  <thead>\n",
              "    <tr style=\"text-align: right;\">\n",
              "      <th></th>\n",
              "      <th>content</th>\n",
              "    </tr>\n",
              "  </thead>\n",
              "  <tbody>\n",
              "    <tr>\n",
              "      <th>0</th>\n",
              "      <td>naveen odisha please have a look at pitiful st...</td>\n",
              "    </tr>\n",
              "    <tr>\n",
              "      <th>1</th>\n",
              "      <td>chad infi very easy to create agitation there ...</td>\n",
              "    </tr>\n",
              "    <tr>\n",
              "      <th>2</th>\n",
              "      <td>odisha congress twist for kannadigas what be y...</td>\n",
              "    </tr>\n",
              "    <tr>\n",
              "      <th>3</th>\n",
              "      <td>same modus operandi every where be it bengal o...</td>\n",
              "    </tr>\n",
              "    <tr>\n",
              "      <th>4</th>\n",
              "      <td>why appropriate action be not take against the...</td>\n",
              "    </tr>\n",
              "    <tr>\n",
              "      <th>5</th>\n",
              "      <td>due to low national medium coverage odisha do ...</td>\n",
              "    </tr>\n",
              "    <tr>\n",
              "      <th>6</th>\n",
              "      <td>visakhapatnamjn vskpism chikudasji waltair sha...</td>\n",
              "    </tr>\n",
              "    <tr>\n",
              "      <th>7</th>\n",
              "      <td>bbcpm if you have ask just yr ago who run the ...</td>\n",
              "    </tr>\n",
              "    <tr>\n",
              "      <th>8</th>\n",
              "      <td>nilegardiner it be not true but even if it be ...</td>\n",
              "    </tr>\n",
              "    <tr>\n",
              "      <th>9</th>\n",
              "      <td>gbnews martindaubney and you do not nation tor...</td>\n",
              "    </tr>\n",
              "    <tr>\n",
              "      <th>10</th>\n",
              "      <td>beninldn this be trans hostility stem from the...</td>\n",
              "    </tr>\n",
              "    <tr>\n",
              "      <th>11</th>\n",
              "      <td>implausibleblog liz truss never one to let a t...</td>\n",
              "    </tr>\n",
              "    <tr>\n",
              "      <th>12</th>\n",
              "      <td>bestforbritain be the portrait of johnson and ...</td>\n",
              "    </tr>\n",
              "    <tr>\n",
              "      <th>13</th>\n",
              "      <td>nilegardiner trussliz heritage it be amaze the...</td>\n",
              "    </tr>\n",
              "    <tr>\n",
              "      <th>14</th>\n",
              "      <td>sturdyalex oh i do not know after the current ...</td>\n",
              "    </tr>\n",
              "    <tr>\n",
              "      <th>15</th>\n",
              "      <td>implausibleblog wrong terminology by liz truss...</td>\n",
              "    </tr>\n",
              "    <tr>\n",
              "      <th>16</th>\n",
              "      <td>apparently rishi ask himself on a regular basi...</td>\n",
              "    </tr>\n",
              "    <tr>\n",
              "      <th>17</th>\n",
              "      <td>do not punish the local tory for this appal go...</td>\n",
              "    </tr>\n",
              "  </tbody>\n",
              "</table>\n",
              "</div>\n",
              "      <button class=\"colab-df-convert\" onclick=\"convertToInteractive('df-a93a8250-dd52-46cd-9e77-ff2336c01829')\"\n",
              "              title=\"Convert this dataframe to an interactive table.\"\n",
              "              style=\"display:none;\">\n",
              "        \n",
              "  <svg xmlns=\"http://www.w3.org/2000/svg\" height=\"24px\"viewBox=\"0 0 24 24\"\n",
              "       width=\"24px\">\n",
              "    <path d=\"M0 0h24v24H0V0z\" fill=\"none\"/>\n",
              "    <path d=\"M18.56 5.44l.94 2.06.94-2.06 2.06-.94-2.06-.94-.94-2.06-.94 2.06-2.06.94zm-11 1L8.5 8.5l.94-2.06 2.06-.94-2.06-.94L8.5 2.5l-.94 2.06-2.06.94zm10 10l.94 2.06.94-2.06 2.06-.94-2.06-.94-.94-2.06-.94 2.06-2.06.94z\"/><path d=\"M17.41 7.96l-1.37-1.37c-.4-.4-.92-.59-1.43-.59-.52 0-1.04.2-1.43.59L10.3 9.45l-7.72 7.72c-.78.78-.78 2.05 0 2.83L4 21.41c.39.39.9.59 1.41.59.51 0 1.02-.2 1.41-.59l7.78-7.78 2.81-2.81c.8-.78.8-2.07 0-2.86zM5.41 20L4 18.59l7.72-7.72 1.47 1.35L5.41 20z\"/>\n",
              "  </svg>\n",
              "      </button>\n",
              "      \n",
              "  <style>\n",
              "    .colab-df-container {\n",
              "      display:flex;\n",
              "      flex-wrap:wrap;\n",
              "      gap: 12px;\n",
              "    }\n",
              "\n",
              "    .colab-df-convert {\n",
              "      background-color: #E8F0FE;\n",
              "      border: none;\n",
              "      border-radius: 50%;\n",
              "      cursor: pointer;\n",
              "      display: none;\n",
              "      fill: #1967D2;\n",
              "      height: 32px;\n",
              "      padding: 0 0 0 0;\n",
              "      width: 32px;\n",
              "    }\n",
              "\n",
              "    .colab-df-convert:hover {\n",
              "      background-color: #E2EBFA;\n",
              "      box-shadow: 0px 1px 2px rgba(60, 64, 67, 0.3), 0px 1px 3px 1px rgba(60, 64, 67, 0.15);\n",
              "      fill: #174EA6;\n",
              "    }\n",
              "\n",
              "    [theme=dark] .colab-df-convert {\n",
              "      background-color: #3B4455;\n",
              "      fill: #D2E3FC;\n",
              "    }\n",
              "\n",
              "    [theme=dark] .colab-df-convert:hover {\n",
              "      background-color: #434B5C;\n",
              "      box-shadow: 0px 1px 3px 1px rgba(0, 0, 0, 0.15);\n",
              "      filter: drop-shadow(0px 1px 2px rgba(0, 0, 0, 0.3));\n",
              "      fill: #FFFFFF;\n",
              "    }\n",
              "  </style>\n",
              "\n",
              "      <script>\n",
              "        const buttonEl =\n",
              "          document.querySelector('#df-a93a8250-dd52-46cd-9e77-ff2336c01829 button.colab-df-convert');\n",
              "        buttonEl.style.display =\n",
              "          google.colab.kernel.accessAllowed ? 'block' : 'none';\n",
              "\n",
              "        async function convertToInteractive(key) {\n",
              "          const element = document.querySelector('#df-a93a8250-dd52-46cd-9e77-ff2336c01829');\n",
              "          const dataTable =\n",
              "            await google.colab.kernel.invokeFunction('convertToInteractive',\n",
              "                                                     [key], {});\n",
              "          if (!dataTable) return;\n",
              "\n",
              "          const docLinkHtml = 'Like what you see? Visit the ' +\n",
              "            '<a target=\"_blank\" href=https://colab.research.google.com/notebooks/data_table.ipynb>data table notebook</a>'\n",
              "            + ' to learn more about interactive tables.';\n",
              "          element.innerHTML = '';\n",
              "          dataTable['output_type'] = 'display_data';\n",
              "          await google.colab.output.renderOutput(dataTable, element);\n",
              "          const docLink = document.createElement('div');\n",
              "          docLink.innerHTML = docLinkHtml;\n",
              "          element.appendChild(docLink);\n",
              "        }\n",
              "      </script>\n",
              "    </div>\n",
              "  </div>\n",
              "  "
            ],
            "text/plain": [
              "                                              content\n",
              "0   naveen odisha please have a look at pitiful st...\n",
              "1   chad infi very easy to create agitation there ...\n",
              "2   odisha congress twist for kannadigas what be y...\n",
              "3   same modus operandi every where be it bengal o...\n",
              "4   why appropriate action be not take against the...\n",
              "5   due to low national medium coverage odisha do ...\n",
              "6   visakhapatnamjn vskpism chikudasji waltair sha...\n",
              "7   bbcpm if you have ask just yr ago who run the ...\n",
              "8   nilegardiner it be not true but even if it be ...\n",
              "9   gbnews martindaubney and you do not nation tor...\n",
              "10  beninldn this be trans hostility stem from the...\n",
              "11  implausibleblog liz truss never one to let a t...\n",
              "12  bestforbritain be the portrait of johnson and ...\n",
              "13  nilegardiner trussliz heritage it be amaze the...\n",
              "14  sturdyalex oh i do not know after the current ...\n",
              "15  implausibleblog wrong terminology by liz truss...\n",
              "16  apparently rishi ask himself on a regular basi...\n",
              "17  do not punish the local tory for this appal go..."
            ]
          },
          "execution_count": 218,
          "metadata": {},
          "output_type": "execute_result"
        }
      ],
      "source": [
        "tr"
      ]
    },
    {
      "cell_type": "code",
      "execution_count": null,
      "metadata": {
        "id": "MUXDInC7AJTX"
      },
      "outputs": [],
      "source": [
        "tr_new=tr"
      ]
    },
    {
      "cell_type": "code",
      "execution_count": null,
      "metadata": {
        "id": "lzYArqaCQnwY"
      },
      "outputs": [],
      "source": [
        "# frames=[data_app,tr]\n",
        "# result = pd.concat(frames)\n",
        "# display(result)"
      ]
    },
    {
      "cell_type": "code",
      "execution_count": null,
      "metadata": {
        "colab": {
          "base_uri": "https://localhost:8080/",
          "height": 423
        },
        "id": "AQhMB8VTrCMx",
        "outputId": "361d658e-5bf0-4648-8545-38142adb4695"
      },
      "outputs": [
        {
          "data": {
            "text/html": [
              "\n",
              "  <div id=\"df-4efe19d5-512a-4705-897a-a6b02e030c35\">\n",
              "    <div class=\"colab-df-container\">\n",
              "      <div>\n",
              "<style scoped>\n",
              "    .dataframe tbody tr th:only-of-type {\n",
              "        vertical-align: middle;\n",
              "    }\n",
              "\n",
              "    .dataframe tbody tr th {\n",
              "        vertical-align: top;\n",
              "    }\n",
              "\n",
              "    .dataframe thead th {\n",
              "        text-align: right;\n",
              "    }\n",
              "</style>\n",
              "<table border=\"1\" class=\"dataframe\">\n",
              "  <thead>\n",
              "    <tr style=\"text-align: right;\">\n",
              "      <th></th>\n",
              "      <th>Unnamed: 0</th>\n",
              "      <th>content</th>\n",
              "    </tr>\n",
              "  </thead>\n",
              "  <tbody>\n",
              "    <tr>\n",
              "      <th>0</th>\n",
              "      <td>0</td>\n",
              "      <td>atiq ahmed s son asad ahmed kill in up police ...</td>\n",
              "    </tr>\n",
              "    <tr>\n",
              "      <th>1</th>\n",
              "      <td>1</td>\n",
              "      <td>big break news mohammad asad son of gangster p...</td>\n",
              "    </tr>\n",
              "    <tr>\n",
              "      <th>2</th>\n",
              "      <td>2</td>\n",
              "      <td>big break news mohammad asad son of gangster p...</td>\n",
              "    </tr>\n",
              "    <tr>\n",
              "      <th>3</th>\n",
              "      <td>3</td>\n",
              "      <td>yadavakhilesh mitti me milana shuru asad son o...</td>\n",
              "    </tr>\n",
              "    <tr>\n",
              "      <th>4</th>\n",
              "      <td>4</td>\n",
              "      <td>big break news mohammad asad son of gangster p...</td>\n",
              "    </tr>\n",
              "    <tr>\n",
              "      <th>...</th>\n",
              "      <td>...</td>\n",
              "      <td>...</td>\n",
              "    </tr>\n",
              "    <tr>\n",
              "      <th>73</th>\n",
              "      <td>73</td>\n",
              "      <td>flight callsign have land at london heathrow a...</td>\n",
              "    </tr>\n",
              "    <tr>\n",
              "      <th>74</th>\n",
              "      <td>74</td>\n",
              "      <td>now that the british government have apologise...</td>\n",
              "    </tr>\n",
              "    <tr>\n",
              "      <th>75</th>\n",
              "      <td>75</td>\n",
              "      <td>flight callsign have land at london heathrow a...</td>\n",
              "    </tr>\n",
              "    <tr>\n",
              "      <th>76</th>\n",
              "      <td>76</td>\n",
              "      <td>flight number from london heathrow to miami in...</td>\n",
              "    </tr>\n",
              "    <tr>\n",
              "      <th>77</th>\n",
              "      <td>77</td>\n",
              "      <td>flight number from london heathrow to john f k...</td>\n",
              "    </tr>\n",
              "  </tbody>\n",
              "</table>\n",
              "<p>78 rows × 2 columns</p>\n",
              "</div>\n",
              "      <button class=\"colab-df-convert\" onclick=\"convertToInteractive('df-4efe19d5-512a-4705-897a-a6b02e030c35')\"\n",
              "              title=\"Convert this dataframe to an interactive table.\"\n",
              "              style=\"display:none;\">\n",
              "        \n",
              "  <svg xmlns=\"http://www.w3.org/2000/svg\" height=\"24px\"viewBox=\"0 0 24 24\"\n",
              "       width=\"24px\">\n",
              "    <path d=\"M0 0h24v24H0V0z\" fill=\"none\"/>\n",
              "    <path d=\"M18.56 5.44l.94 2.06.94-2.06 2.06-.94-2.06-.94-.94-2.06-.94 2.06-2.06.94zm-11 1L8.5 8.5l.94-2.06 2.06-.94-2.06-.94L8.5 2.5l-.94 2.06-2.06.94zm10 10l.94 2.06.94-2.06 2.06-.94-2.06-.94-.94-2.06-.94 2.06-2.06.94z\"/><path d=\"M17.41 7.96l-1.37-1.37c-.4-.4-.92-.59-1.43-.59-.52 0-1.04.2-1.43.59L10.3 9.45l-7.72 7.72c-.78.78-.78 2.05 0 2.83L4 21.41c.39.39.9.59 1.41.59.51 0 1.02-.2 1.41-.59l7.78-7.78 2.81-2.81c.8-.78.8-2.07 0-2.86zM5.41 20L4 18.59l7.72-7.72 1.47 1.35L5.41 20z\"/>\n",
              "  </svg>\n",
              "      </button>\n",
              "      \n",
              "  <style>\n",
              "    .colab-df-container {\n",
              "      display:flex;\n",
              "      flex-wrap:wrap;\n",
              "      gap: 12px;\n",
              "    }\n",
              "\n",
              "    .colab-df-convert {\n",
              "      background-color: #E8F0FE;\n",
              "      border: none;\n",
              "      border-radius: 50%;\n",
              "      cursor: pointer;\n",
              "      display: none;\n",
              "      fill: #1967D2;\n",
              "      height: 32px;\n",
              "      padding: 0 0 0 0;\n",
              "      width: 32px;\n",
              "    }\n",
              "\n",
              "    .colab-df-convert:hover {\n",
              "      background-color: #E2EBFA;\n",
              "      box-shadow: 0px 1px 2px rgba(60, 64, 67, 0.3), 0px 1px 3px 1px rgba(60, 64, 67, 0.15);\n",
              "      fill: #174EA6;\n",
              "    }\n",
              "\n",
              "    [theme=dark] .colab-df-convert {\n",
              "      background-color: #3B4455;\n",
              "      fill: #D2E3FC;\n",
              "    }\n",
              "\n",
              "    [theme=dark] .colab-df-convert:hover {\n",
              "      background-color: #434B5C;\n",
              "      box-shadow: 0px 1px 3px 1px rgba(0, 0, 0, 0.15);\n",
              "      filter: drop-shadow(0px 1px 2px rgba(0, 0, 0, 0.3));\n",
              "      fill: #FFFFFF;\n",
              "    }\n",
              "  </style>\n",
              "\n",
              "      <script>\n",
              "        const buttonEl =\n",
              "          document.querySelector('#df-4efe19d5-512a-4705-897a-a6b02e030c35 button.colab-df-convert');\n",
              "        buttonEl.style.display =\n",
              "          google.colab.kernel.accessAllowed ? 'block' : 'none';\n",
              "\n",
              "        async function convertToInteractive(key) {\n",
              "          const element = document.querySelector('#df-4efe19d5-512a-4705-897a-a6b02e030c35');\n",
              "          const dataTable =\n",
              "            await google.colab.kernel.invokeFunction('convertToInteractive',\n",
              "                                                     [key], {});\n",
              "          if (!dataTable) return;\n",
              "\n",
              "          const docLinkHtml = 'Like what you see? Visit the ' +\n",
              "            '<a target=\"_blank\" href=https://colab.research.google.com/notebooks/data_table.ipynb>data table notebook</a>'\n",
              "            + ' to learn more about interactive tables.';\n",
              "          element.innerHTML = '';\n",
              "          dataTable['output_type'] = 'display_data';\n",
              "          await google.colab.output.renderOutput(dataTable, element);\n",
              "          const docLink = document.createElement('div');\n",
              "          docLink.innerHTML = docLinkHtml;\n",
              "          element.appendChild(docLink);\n",
              "        }\n",
              "      </script>\n",
              "    </div>\n",
              "  </div>\n",
              "  "
            ],
            "text/plain": [
              "    Unnamed: 0                                            content\n",
              "0            0  atiq ahmed s son asad ahmed kill in up police ...\n",
              "1            1  big break news mohammad asad son of gangster p...\n",
              "2            2  big break news mohammad asad son of gangster p...\n",
              "3            3  yadavakhilesh mitti me milana shuru asad son o...\n",
              "4            4  big break news mohammad asad son of gangster p...\n",
              "..         ...                                                ...\n",
              "73          73  flight callsign have land at london heathrow a...\n",
              "74          74  now that the british government have apologise...\n",
              "75          75  flight callsign have land at london heathrow a...\n",
              "76          76  flight number from london heathrow to miami in...\n",
              "77          77  flight number from london heathrow to john f k...\n",
              "\n",
              "[78 rows x 2 columns]"
            ]
          },
          "execution_count": 196,
          "metadata": {},
          "output_type": "execute_result"
        }
      ],
      "source": [
        "# # result.to_csv(\"out.csv\")\n",
        "# tweet_df = pd.read_csv('out.csv')\n",
        "# tweet_df"
      ]
    },
    {
      "cell_type": "code",
      "execution_count": null,
      "metadata": {
        "id": "lrV-VfnhyhfL"
      },
      "outputs": [],
      "source": [
        "# using openAI api"
      ]
    },
    {
      "cell_type": "code",
      "execution_count": null,
      "metadata": {
        "colab": {
          "base_uri": "https://localhost:8080/"
        },
        "id": "WYPCDBlerBcs",
        "outputId": "7af39187-2c4d-4f53-9a63-fef9e4de38f5"
      },
      "outputs": [
        {
          "name": "stdout",
          "output_type": "stream",
          "text": [
            "Looking in indexes: https://pypi.org/simple, https://us-python.pkg.dev/colab-wheels/public/simple/\n",
            "Collecting openai\n",
            "  Downloading openai-0.27.4-py3-none-any.whl (70 kB)\n",
            "\u001b[2K     \u001b[90m━━━━━━━━━━━━━━━━━━━━━━━━━━━━━━━━━━━━━━━━\u001b[0m \u001b[32m70.3/70.3 kB\u001b[0m \u001b[31m2.6 MB/s\u001b[0m eta \u001b[36m0:00:00\u001b[0m\n",
            "\u001b[?25hRequirement already satisfied: tqdm in /usr/local/lib/python3.9/dist-packages (from openai) (4.65.0)\n",
            "Requirement already satisfied: requests>=2.20 in /usr/local/lib/python3.9/dist-packages (from openai) (2.27.1)\n",
            "Collecting aiohttp\n",
            "  Downloading aiohttp-3.8.4-cp39-cp39-manylinux_2_17_x86_64.manylinux2014_x86_64.whl (1.0 MB)\n",
            "\u001b[2K     \u001b[90m━━━━━━━━━━━━━━━━━━━━━━━━━━━━━━━━━━━━━━━━\u001b[0m \u001b[32m1.0/1.0 MB\u001b[0m \u001b[31m19.3 MB/s\u001b[0m eta \u001b[36m0:00:00\u001b[0m\n",
            "\u001b[?25hRequirement already satisfied: urllib3<1.27,>=1.21.1 in /usr/local/lib/python3.9/dist-packages (from requests>=2.20->openai) (1.26.15)\n",
            "Requirement already satisfied: idna<4,>=2.5 in /usr/local/lib/python3.9/dist-packages (from requests>=2.20->openai) (3.4)\n",
            "Requirement already satisfied: charset-normalizer~=2.0.0 in /usr/local/lib/python3.9/dist-packages (from requests>=2.20->openai) (2.0.12)\n",
            "Requirement already satisfied: certifi>=2017.4.17 in /usr/local/lib/python3.9/dist-packages (from requests>=2.20->openai) (2022.12.7)\n",
            "Collecting yarl<2.0,>=1.0\n",
            "  Downloading yarl-1.8.2-cp39-cp39-manylinux_2_17_x86_64.manylinux2014_x86_64.whl (264 kB)\n",
            "\u001b[2K     \u001b[90m━━━━━━━━━━━━━━━━━━━━━━━━━━━━━━━━━━━━━━\u001b[0m \u001b[32m264.6/264.6 kB\u001b[0m \u001b[31m23.3 MB/s\u001b[0m eta \u001b[36m0:00:00\u001b[0m\n",
            "\u001b[?25hRequirement already satisfied: attrs>=17.3.0 in /usr/local/lib/python3.9/dist-packages (from aiohttp->openai) (22.2.0)\n",
            "Collecting async-timeout<5.0,>=4.0.0a3\n",
            "  Downloading async_timeout-4.0.2-py3-none-any.whl (5.8 kB)\n",
            "Collecting frozenlist>=1.1.1\n",
            "  Downloading frozenlist-1.3.3-cp39-cp39-manylinux_2_5_x86_64.manylinux1_x86_64.manylinux_2_17_x86_64.manylinux2014_x86_64.whl (158 kB)\n",
            "\u001b[2K     \u001b[90m━━━━━━━━━━━━━━━━━━━━━━━━━━━━━━━━━━━━━━\u001b[0m \u001b[32m158.8/158.8 kB\u001b[0m \u001b[31m15.1 MB/s\u001b[0m eta \u001b[36m0:00:00\u001b[0m\n",
            "\u001b[?25hCollecting multidict<7.0,>=4.5\n",
            "  Downloading multidict-6.0.4-cp39-cp39-manylinux_2_17_x86_64.manylinux2014_x86_64.whl (114 kB)\n",
            "\u001b[2K     \u001b[90m━━━━━━━━━━━━━━━━━━━━━━━━━━━━━━━━━━━━━━\u001b[0m \u001b[32m114.2/114.2 kB\u001b[0m \u001b[31m14.5 MB/s\u001b[0m eta \u001b[36m0:00:00\u001b[0m\n",
            "\u001b[?25hCollecting aiosignal>=1.1.2\n",
            "  Downloading aiosignal-1.3.1-py3-none-any.whl (7.6 kB)\n",
            "Installing collected packages: multidict, frozenlist, async-timeout, yarl, aiosignal, aiohttp, openai\n",
            "Successfully installed aiohttp-3.8.4 aiosignal-1.3.1 async-timeout-4.0.2 frozenlist-1.3.3 multidict-6.0.4 openai-0.27.4 yarl-1.8.2\n"
          ]
        }
      ],
      "source": [
        "pip install openai"
      ]
    },
    {
      "cell_type": "code",
      "execution_count": null,
      "metadata": {
        "id": "GuHTqZDJe0y2"
      },
      "outputs": [],
      "source": [
        "import pandas as pd"
      ]
    },
    {
      "cell_type": "code",
      "execution_count": null,
      "metadata": {
        "id": "FjG0pryXeqb4"
      },
      "outputs": [],
      "source": [
        "df_tr = pd.read_csv('test_fin.csv')\n",
        "df_tr=df_tr.drop(['Unnamed: 0'], axis=1)"
      ]
    },
    {
      "cell_type": "code",
      "execution_count": null,
      "metadata": {
        "colab": {
          "base_uri": "https://localhost:8080/",
          "height": 157
        },
        "id": "yJAAN7RofDVd",
        "outputId": "2ae6f90e-3f6f-434b-efb7-40f6fcc4e872"
      },
      "outputs": [
        {
          "data": {
            "application/vnd.google.colaboratory.intrinsic+json": {
              "type": "string"
            },
            "text/plain": [
              "'chad infi very easy to create agitation there after all they be follow the footstep of west bengal te orists and naveen patnaik will continue to be lethargic i do not believe the hindu of odisha be even a agile or inform a the hindu of gujarat or up or elsewhere.sasmitpatra dpradhanbjp the people of kotia and koraput deserve a resolution to the longstanding issue not just lip service from dpradhanbjp it be time for him to prove his commitment to odisha by approach the central government and inter state council for a solution.sasmitpatra dpradhanbjp the kotia issue be a matter of concern for all of odisha not just a few politician dpradhanbjp need to step up and take the lead in find a solution through the central government and inter state council.sasmitpatra dpradhanbjp the kotia issue be not just about medium coverage or political drama it be about the welfare of the people of odisha dpradhanbjp need to step up and take concrete step to resolve this issue through the central government and inter state council.sasmitpatra dpradhanbjp empty promise will not help resolve the kotia issue it be high time dpradhanbjp take real action and approach the central government to intervene through the inter state council the people of odisha deserve better.sasmitpatra dpradhanbjp shri dpradhanbjp s silence on the kotia issue during his year a a central minister speak volume if he truly care about odisha s welfare he would have raise it with the central government and take concrete step to resolve it.by the way the home minister be none other than sri naveen odisha when will he resign a hm at least.cmo odisha this be the situation of odisha please look into the matter personally.harmony khushsundar cmo odisha such true word bjp be a morally dead party who be ulterior motive be power they will garland rapist induct the most corrupt people and mislead the mass in the name of religion they claim to be the protector of hindu while be the most unhindu.spsambalpur take strict action against all culprit who have instigate the violence odisha be not safe under bjd lead pandian government vkpandia naveen odisha.'"
            ]
          },
          "execution_count": 4,
          "metadata": {},
          "output_type": "execute_result"
        }
      ],
      "source": [
        "df_tr['content'][1]"
      ]
    },
    {
      "cell_type": "code",
      "execution_count": null,
      "metadata": {},
      "outputs": [],
      "source": [
        "#please use you key "
      ]
    },
    {
      "cell_type": "code",
      "execution_count": null,
      "metadata": {
        "id": "oDPBWEzhwOIc"
      },
      "outputs": [],
      "source": [
        "import openai\n",
        "openai.api_key='sk-*************************************************'"
      ]
    },
    {
      "cell_type": "code",
      "execution_count": null,
      "metadata": {
        "id": "ccz33BvEwYUN"
      },
      "outputs": [],
      "source": [
        "from bs4 import BeautifulSoup\n",
        "from tqdm import tqdm"
      ]
    },
    {
      "cell_type": "code",
      "execution_count": null,
      "metadata": {
        "colab": {
          "base_uri": "https://localhost:8080/"
        },
        "id": "FZvfURhGwbhq",
        "outputId": "dbfbe6c5-0f0f-42f0-f652-7dd0da63c529"
      },
      "outputs": [
        {
          "name": "stderr",
          "output_type": "stream",
          "text": [
            "Doin' my work: 100%|██████████| 1/1 [00:01<00:00,  1.25s/it]\n"
          ]
        }
      ],
      "source": [
        "r = []\n",
        "for ind in tqdm(range(len(df_tr)),desc=\"Doin' my work\"):\n",
        "    prompt = \"Summarize this in 50 words:\"+df_tr['content'][ind]\n",
        "    completion = openai.Completion.create(\n",
        "    engine = \"text-davinci-003\",\n",
        "    prompt=prompt,\n",
        "    max_tokens=64,\n",
        "    n=1,\n",
        "    stop=None,\n",
        "    temperature=0.5)\n",
        "    r.append(completion.choices[0].text)"
      ]
    },
    {
      "cell_type": "code",
      "execution_count": null,
      "metadata": {
        "id": "kv5vFmhvvsuz"
      },
      "outputs": [],
      "source": [
        "tweet_df_out = pd.DataFrame(r,columns=[\"summary\"])"
      ]
    },
    {
      "cell_type": "code",
      "execution_count": null,
      "metadata": {
        "colab": {
          "base_uri": "https://localhost:8080/",
          "height": 70
        },
        "id": "vCIetvIbgLDR",
        "outputId": "53332ffe-333f-40ba-ff49-8ef7ad0946db"
      },
      "outputs": [
        {
          "data": {
            "application/vnd.google.colaboratory.intrinsic+json": {
              "type": "string"
            },
            "text/plain": [
              "'\\n\\nLiz Truss has been heavily criticized for her handling of the UK economy, with many claiming she has destroyed it. Her mini budget wiped billions off the economy and hiked mortgage payments for people across the country, yet she still tried to blame others for her downfall. Angela Rayner has pointed out that the'"
            ]
          },
          "execution_count": 35,
          "metadata": {},
          "output_type": "execute_result"
        }
      ],
      "source": [
        "tweet_df_out['summary'][0]"
      ]
    },
    {
      "cell_type": "code",
      "execution_count": null,
      "metadata": {
        "id": "BJWaIS2V6UIO"
      },
      "outputs": [],
      "source": [
        "result = pd.concat([df_tr, tweet_df_out], axis=1, join='inner')\n",
        "result.to_csv(\"sum.csv\")"
      ]
    },
    {
      "cell_type": "code",
      "execution_count": null,
      "metadata": {
        "id": "vxlMhKs57BEu"
      },
      "outputs": [],
      "source": [
        "# result"
      ]
    }
  ],
  "metadata": {
    "colab": {
      "provenance": []
    },
    "kernelspec": {
      "display_name": "Python 3",
      "name": "python3"
    },
    "language_info": {
      "name": "python"
    }
  },
  "nbformat": 4,
  "nbformat_minor": 0
}
